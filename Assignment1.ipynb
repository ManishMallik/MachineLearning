{
  "nbformat": 4,
  "nbformat_minor": 0,
  "metadata": {
    "colab": {
      "provenance": [],
      "include_colab_link": true
    },
    "kernelspec": {
      "name": "python3",
      "display_name": "Python 3"
    },
    "language_info": {
      "name": "python"
    }
  },
  "cells": [
    {
      "cell_type": "markdown",
      "metadata": {
        "id": "view-in-github",
        "colab_type": "text"
      },
      "source": [
        "<a href=\"https://colab.research.google.com/github/ManishMallik/MachineLearning/blob/main/Assignment1.ipynb\" target=\"_parent\"><img src=\"https://colab.research.google.com/assets/colab-badge.svg\" alt=\"Open In Colab\"/></a>"
      ]
    },
    {
      "cell_type": "markdown",
      "source": [
        "\n",
        "Will need data processing beforehand"
      ],
      "metadata": {
        "id": "YUkI87FR5hvV"
      }
    },
    {
      "cell_type": "code",
      "source": [
        "import pandas as pd\n",
        "import numpy as np\n",
        "import matplotlib.pyplot as plt\n",
        "#correlation analysis\n",
        "url = \"https://archive.ics.uci.edu/ml/machine-learning-databases/auto-mpg/auto-mpg.data\"\n",
        "column_names = [\"MPG\", \"Cylinders\", \"Displacement\", \"Horsepower\", \"Weight\", \"Acceleration\", \"Model Year\", \"Origin\", \"Car Name\"]\n",
        "data = pd.read_csv(url, names=column_names, delim_whitespace=True)\n",
        "\n",
        "# Calculate the correlation matrix\n",
        "correlation_matrix = data.corr()\n",
        "\n",
        "# Extract correlations with 'MPG' and sort them in descending order\n",
        "correlations_with_mpg = correlation_matrix[\"MPG\"].sort_values(ascending=False)\n",
        "\n",
        "# Print the correlations\n",
        "print(correlations_with_mpg)\n"
      ],
      "metadata": {
        "id": "ql1mJyQtnYkP",
        "outputId": "9dc3ce34-ac9d-4e0b-fa19-1de3d6a8ffe6",
        "colab": {
          "base_uri": "https://localhost:8080/"
        }
      },
      "execution_count": null,
      "outputs": [
        {
          "output_type": "stream",
          "name": "stdout",
          "text": [
            "MPG             1.000000\n",
            "Model Year      0.579267\n",
            "Origin          0.563450\n",
            "Acceleration    0.420289\n",
            "Cylinders      -0.775396\n",
            "Displacement   -0.804203\n",
            "Weight         -0.831741\n",
            "Name: MPG, dtype: float64\n"
          ]
        },
        {
          "output_type": "stream",
          "name": "stderr",
          "text": [
            "<ipython-input-5-24c782748709>:10: FutureWarning: The default value of numeric_only in DataFrame.corr is deprecated. In a future version, it will default to False. Select only valid columns or specify the value of numeric_only to silence this warning.\n",
            "  correlation_matrix = data.corr()\n"
          ]
        }
      ]
    },
    {
      "cell_type": "code",
      "source": [
        "# import pandas as pd\n",
        "# import numpy as np\n",
        "# import matplotlib.pyplot as plt\n",
        "# #read in raw data\n",
        "# # drop the duplicates or na values\n",
        "# # we can see what else we should do here\n",
        "# # assuming our data is read in as d\n",
        "# #data = pd.read_csv('auto-mpg.data', sep=\" \")\n",
        "# data = pd.read_excel('Real estate valuation data set.xlsx')\n",
        "# print(data)\n",
        "# #print(data['Vendor Name'][0])\n",
        "# #print(data.iloc[:, 0])\n",
        "# data.dropna(inplace=True)\n",
        "# data.drop_duplicates(inplace=True)\n"
      ],
      "metadata": {
        "id": "FgyrBhAN5k4f"
      },
      "execution_count": null,
      "outputs": []
    },
    {
      "cell_type": "markdown",
      "source": [
        "Choosing the features (if we use three)"
      ],
      "metadata": {
        "id": "YOxZpcosKGKB"
      }
    },
    {
      "cell_type": "code",
      "source": [
        "X = data[['Origin', 'Acceleration']]\n",
        "# X_MYCT = data['MYCT']\n",
        "# X_MMIN = data['MMIN']\n",
        "# X_MMAX = data['MMAX']\n",
        "# X_CACH = data['CACH']\n",
        "# X_CHMIN = data['CHMIN']\n",
        "# X_CHMAX = data['CHMAX']\n",
        "X_weight = data['Origin']\n",
        "X_accel = data['Acceleration']\n",
        "y = data['MPG']\n",
        "#X = data[['X1 transaction date']]\n",
        "#y = data['Y house price of unit area']\n",
        "print(y)\n",
        "#plt.scatter(X_MYCT, y, s=5, label = 'MYCT')\n",
        "plt.scatter(X_weight, y, s=5, label = 'Weight')\n",
        "plt.scatter(X_accel, y, s=5, label = 'Acceleration')\n",
        "#plt.scatter(X_CACH, y, s=5, label = 'CACH')\n",
        "plt.legend(fontsize=15)\n",
        "plt.xlabel('MMIN, MMAX, and CACH', fontsize=15)\n",
        "plt.ylabel('ERP', fontsize=15)\n",
        "plt.legend()\n",
        "plt.show()"
      ],
      "metadata": {
        "id": "KVyu-ayTKF9h",
        "colab": {
          "base_uri": "https://localhost:8080/",
          "height": 663
        },
        "outputId": "d5262dd6-f732-40a4-c07f-18ae8d1250b0"
      },
      "execution_count": null,
      "outputs": [
        {
          "output_type": "stream",
          "name": "stdout",
          "text": [
            "0      18.0\n",
            "1      15.0\n",
            "2      18.0\n",
            "3      16.0\n",
            "4      17.0\n",
            "       ... \n",
            "393    27.0\n",
            "394    44.0\n",
            "395    32.0\n",
            "396    28.0\n",
            "397    31.0\n",
            "Name: MPG, Length: 398, dtype: float64\n"
          ]
        },
        {
          "output_type": "display_data",
          "data": {
            "text/plain": [
              "<Figure size 640x480 with 1 Axes>"
            ],
            "image/png": "[encoded data removed]"
          },
          "metadata": {}
        }
      ]
    },
    {
      "cell_type": "markdown",
      "source": [
        "Predict"
      ],
      "metadata": {
        "id": "m3yK2Vjv4TwO"
      }
    },
    {
      "cell_type": "code",
      "execution_count": null,
      "metadata": {
        "id": "OGxENj2y_uZs"
      },
      "outputs": [],
      "source": [
        "def predict(X, theta):\n",
        "    return np.dot(X, theta)"
      ]
    },
    {
      "cell_type": "markdown",
      "source": [
        "MSE loss funct"
      ],
      "metadata": {
        "id": "uSP9Il6H4eKS"
      }
    },
    {
      "cell_type": "code",
      "source": [
        "def mse_loss_funct(y_act, y_pred):\n",
        "    # formula\n",
        "    return np.mean((y_act - y_pred) ** 2)\n",
        "\n",
        "def cost_function(X, y, theta):\n",
        "    m = len(y)\n",
        "    predictions = predict(X, theta)\n",
        "    squared_error = (predictions - y) ** 2\n",
        "    return 1 / (2 * m) * np.sum(squared_error)"
      ],
      "metadata": {
        "id": "cb5rHjyG4gdq"
      },
      "execution_count": null,
      "outputs": []
    },
    {
      "cell_type": "markdown",
      "source": [
        "Gradient Decent Function (I think lol)"
      ],
      "metadata": {
        "id": "DPMPfh1H43S4"
      }
    },
    {
      "cell_type": "code",
      "source": [
        "# def gradient_descent(X, y, theta, learning_rate, num_iter):\n",
        "#     # the length of training data\n",
        "#     total = len(y)\n",
        "#     cost_list = []\n",
        "#     theta_list = []\n",
        "#     prediction_list = []\n",
        "#     cost_list.append(1e10)\n",
        "#     for i in range(num_iter):\n",
        "#         # Predictions\n",
        "#         y_pred = predict(X, theta)\n",
        "\n",
        "#         prediction_list.append(y_pred)\n",
        "#         error = y_pred - y\n",
        "\n",
        "#         cost = 1/(2*total) * np.dot(error.T, error)\n",
        "#         cost_list.append(cost)\n",
        "\n",
        "#         # gradient loss (weights and bias)\n",
        "#         theta = theta - (learning_rate * (1/total) * np.dot(X.T, error))\n",
        "#         theta_list.append(theta)\n",
        "#         if cost_list[i]-cost_list[i+1] < 1e-9:\n",
        "#           break\n",
        "#         #dw = -(1 / total) * np.dot(X.T, (y_pred - y))\n",
        "#         #db = -(1 / total) * np.sum(y_pred - y)\n",
        "#         #print(dw)\n",
        "#         #print(db)\n",
        "\n",
        "#         # update\n",
        "#         # theta = theta + (learning_rate * dw)\n",
        "#         # bias = bias + (learning_rate * db)\n",
        "\n",
        "#     #return theta, bias\n",
        "#     cost_list.pop(0)\n",
        "#     return prediction_list, cost_list, theta_list\n",
        "def gradient_descent(X, y, theta, alpha, num_iterations):\n",
        "    m = len(y)\n",
        "    cost_history = []\n",
        "\n",
        "    for _ in range(num_iterations):\n",
        "        predictions = predict(X, theta)\n",
        "        errors = predictions - y\n",
        "        gradient = (1 / m) * X.T.dot(errors)\n",
        "        theta -= alpha * gradient\n",
        "        cost = cost_function(X, y, theta)\n",
        "        cost_history.append(cost)\n",
        "\n",
        "    return theta, cost_history"
      ],
      "metadata": {
        "id": "WctdziFF42oC"
      },
      "execution_count": null,
      "outputs": []
    },
    {
      "cell_type": "markdown",
      "source": [
        "Training"
      ],
      "metadata": {
        "id": "YJV_4yEAIvVz"
      }
    },
    {
      "cell_type": "code",
      "source": [
        "alpha = 0.05\n",
        "num_iter = 1000\n",
        "#print(X['CACH'][208])\n",
        "#print(y[208])\n",
        "np.random.seed(10)\n",
        "theta = np.random.rand(X.shape[1])\n",
        "#theta = np.ones(X.shape[1])\n",
        "theta, cost_history = gradient_descent(X, y, theta, alpha, num_iter)\n",
        "# print(theta)\n",
        "# print(cost_history)\n",
        "plt.title('Cost Function J', size = 30)\n",
        "plt.xlabel('No. of iterations', size=20)\n",
        "plt.ylabel('Cost', size=20)\n",
        "plt.plot(cost_history)\n",
        "plt.show()\n"
      ],
      "metadata": {
        "id": "suxtFp7ZIu9z",
        "colab": {
          "base_uri": "https://localhost:8080/",
          "height": 505
        },
        "outputId": "5c54b167-0c97-4596-b8fe-3143e605f538"
      },
      "execution_count": null,
      "outputs": [
        {
          "output_type": "display_data",
          "data": {
            "text/plain": [
              "<Figure size 640x480 with 1 Axes>"
            ],
            "image/png": "[encoded data removed]"
          },
          "metadata": {}
        }
      ]
    },
    {
      "cell_type": "markdown",
      "source": [
        "Predictions evauation (i think)"
      ],
      "metadata": {
        "id": "GDkhvdF9JDS0"
      }
    },
    {
      "cell_type": "code",
      "source": [
        "# for x test use the same features for evaluation\n",
        "testdata = pd.read_csv('machine.data.txt', sep=\",\")\n",
        "X_test = testdata[['MYCT', 'MMIN', 'CACH']]\n",
        "Y_test = testdata['ERP']\n",
        "\n",
        "y_test_pred = predict(X_test, trained_weights, trained_bias)\n",
        "# input the actual and prediction\n",
        "mse = mse_loss_funct(Y_test, y_test_pred)\n",
        "# show our mse calculation here\n",
        "print(f\"Test MSE: {mse}\")"
      ],
      "metadata": {
        "id": "mUsRUZDvJJFg"
      },
      "execution_count": null,
      "outputs": []
    },
    {
      "cell_type": "markdown",
      "source": [
        "Using the libraries:"
      ],
      "metadata": {
        "id": "mGnzxxDJLh0Z"
      }
    },
    {
      "cell_type": "code",
      "source": [
        "#Do the same dataset loading here\n",
        "\n",
        "# put the three features in X and select the column for Y\n",
        "X = data[['MYCT', 'MMIN', 'CACH']]\n",
        "y = data['ERP']\n",
        "######"
      ],
      "metadata": {
        "id": "ZOlD3fy5Lljb"
      },
      "execution_count": null,
      "outputs": []
    },
    {
      "cell_type": "code",
      "source": [
        "# if needed, split train and test\n",
        "X, X_test, Y, y_test = train_test_split(X, y, test_size=0.2, random_state=30)\n",
        "\n",
        "#otherwise  just load the separate test and train here\n",
        "# load the training, then put the X features and Y\n",
        "# X= data[]\n",
        "# Y= data\n",
        "X_test= testdata[]\n",
        "Y_test= testdata[]\n",
        "# use the method professor sent in email\n",
        "\n",
        "#####"
      ],
      "metadata": {
        "id": "tGVC_3hnL0Ca"
      },
      "execution_count": null,
      "outputs": []
    },
    {
      "cell_type": "code",
      "source": [
        "# linear model\n",
        "model = LinearRegression()\n",
        "\n",
        "# training (this assumes X and Y is training and X_test is the test data and Y_test is also)\n",
        "model.fit(X, Y)\n",
        "\n",
        "# predictions\n",
        "y_test_pred = model.predict(X_test)\n",
        "\n",
        "# testing (evaluating)\n",
        "mse = mean_squared_error(y_test, y_test_pred)\n",
        "\n",
        "print(f\"MSE Test: {mse}\")"
      ],
      "metadata": {
        "id": "c5NsoGRaML6m"
      },
      "execution_count": null,
      "outputs": []
    },
    {
      "cell_type": "markdown",
      "source": [
        "This is where assignment 1 will be."
      ],
      "metadata": {
        "id": "CbJ6OnJm_6tM"
      }
    },
    {
      "cell_type": "markdown",
      "source": [
        "https://www.kaggle.com/code/tentotheminus9/linear-regression-from-scratch-gradient-descent"
      ],
      "metadata": {
        "id": "dPg-agM9m5GW"
      }
    },
    {
      "cell_type": "code",
      "source": [
        "X = data.iloc[:, 0:8]\n",
        "y = data.iloc[:, 8]"
      ],
      "metadata": {
        "id": "1e26mK9xptN1"
      },
      "execution_count": null,
      "outputs": []
    },
    {
      "cell_type": "markdown",
      "source": [
        "sup maniiiishh\n"
      ],
      "metadata": {
        "id": "pSzqEMy1BfKB"
      }
    },
    {
      "cell_type": "code",
      "source": [
        "import pandas as pd\n",
        "import numpy as np\n",
        "from sklearn.model_selection import train_test_split\n",
        "\n",
        "# Load your dataset into a pandas DataFrame\n",
        "# Replace 'your_dataset.csv' with the actual file path or URL of your dataset\n",
        "url = \"https://archive.ics.uci.edu/ml/machine-learning-databases/auto-mpg/auto-mpg.data\"\n",
        "column_names = [\"MPG\", \"Cylinders\", \"Displacement\", \"Horsepower\", \"Weight\", \"Acceleration\", \"Model Year\", \"Origin\", \"Car Name\"]\n",
        "data = pd.read_csv(url, names=column_names, delim_whitespace=True)\n",
        "\n",
        "# Step 1: Data Pre-processing\n",
        "# Replace or remove missing values, remove duplicates, and convert categorical variables\n",
        "# Example pre-processing steps:\n",
        "\n",
        "# Remove rows with missing values\n",
        "data = data.dropna()\n",
        "\n",
        "# Remove duplicate rows\n",
        "data = data.drop_duplicates()\n",
        "\n",
        "# Convert categorical variable 'Origin' to numerical using one-hot encoding\n",
        "data = pd.get_dummies(data, columns=[\"Origin\"])\n",
        "\n",
        "# Feature selection (remove unwanted attributes)\n",
        "data = data.drop([\"Car Name\"], axis=1)  # Example: Removing 'Car Name' as it may not be relevant\n",
        "\n",
        "\n",
        "# Step 2: Splitting the Dataset into Training and Test Sets\n",
        "X = data.drop(\"MPG\", axis=1)\n",
        "y = data[\"MPG\"]\n",
        "X_train, X_test, y_train, y_test = train_test_split(X, y, test_size=0.2, random_state=42)\n",
        "\n",
        "# Convert the data to NumPy arrays\n",
        "X_train = np.array(X_train)\n",
        "y_train = np.array(y_train)\n",
        "X_test = np.array(X_test)\n",
        "y_test = np.array(y_test)\n",
        "\n",
        "# Step 3: Building the Linear Regression Model (Gradient Descent)\n",
        "# Implement linear regression and gradient descent manually\n",
        "# Below is a simplified example; you might need to fine-tune it for your specific dataset and requirements\n",
        "\n",
        "# Initialize model parameters as NumPy arrays\n",
        "num_iterations = 1000\n",
        "learning_rate = 0.01\n",
        "weights = np.zeros(X_train.shape[1])\n",
        "bias = np.zeros(1)\n",
        "\n",
        "# Lists to store parameter and error values during training\n",
        "parameter_history = []\n",
        "error_history = []\n",
        "\n",
        "# Define the hypothesis function\n",
        "def predict(X, weights, bias):\n",
        "    return np.dot(X, weights) + bias\n",
        "\n",
        "# Define the Mean Squared Error (MSE) cost function\n",
        "def mean_squared_error(y_true, y_pred):\n",
        "    return np.mean((y_true - y_pred) ** 2)\n",
        "\n",
        "# Gradient Descent\n",
        "\n",
        "for iteration in range(num_iterations):\n",
        "    y_pred = predict(X_train, weights, bias)\n",
        "    error = y_train - y_pred\n",
        "    weights_gradient = -(2 / len(X_train)) * np.dot(X_train.T, error)\n",
        "    bias_gradient = -(2 / len(X_train)) * np.sum(error)\n",
        "    weights -= learning_rate * weights_gradient\n",
        "    bias -= learning_rate * bias_gradient\n",
        "\n",
        "    # Calculate and log the MSE for this iteration\n",
        "    mse_iteration = mean_squared_error(y_train, predict(X_train, weights, bias))\n",
        "    error_history.append(mse_iteration)\n",
        "\n",
        "    # Log parameters (weights, bias, and iteration number)\n",
        "    parameter_history.append((weights.copy(), bias.copy(), iteration))\n",
        "\n",
        "# Step 4: Testing the Model\n",
        "# Apply the trained model to the test dataset and calculate the MSE\n",
        "y_test_pred = predict(X_test, weights, bias)\n",
        "mse = mean_squared_error(y_test, y_test_pred)\n",
        "\n",
        "# Print the Mean Squared Error on the test dataset\n",
        "print(\"Mean Squared Error on Test Dataset:\", mse)\n",
        "\n",
        "# Print the parameter history and error history for analysis and tuning\n",
        "# You can use this information to find the best set of parameters\n",
        "for iteration, (weights, bias, mse_iteration) in enumerate(zip(parameter_history, error_history), 1):\n",
        "    print(f\"Iteration {iteration}: Weights={weights}, Bias={bias}, MSE={mse_iteration}\")\n"
      ],
      "metadata": {
        "colab": {
          "base_uri": "https://localhost:8080/",
          "height": 303
        },
        "id": "XfXDwqhY7lVT",
        "outputId": "3cff14fd-2047-481d-bd20-dfb3f91410bb"
      },
      "execution_count": null,
      "outputs": [
        {
          "output_type": "error",
          "ename": "TypeError",
          "evalue": "ignored",
          "traceback": [
            "\u001b[0;31m---------------------------------------------------------------------------\u001b[0m",
            "\u001b[0;31mTypeError\u001b[0m                                 Traceback (most recent call last)",
            "\u001b[0;32m<ipython-input-14-2ca67c2dc745>\u001b[0m in \u001b[0;36m<cell line: 63>\u001b[0;34m()\u001b[0m\n\u001b[1;32m     62\u001b[0m \u001b[0;34m\u001b[0m\u001b[0m\n\u001b[1;32m     63\u001b[0m \u001b[0;32mfor\u001b[0m \u001b[0miteration\u001b[0m \u001b[0;32min\u001b[0m \u001b[0mrange\u001b[0m\u001b[0;34m(\u001b[0m\u001b[0mnum_iterations\u001b[0m\u001b[0;34m)\u001b[0m\u001b[0;34m:\u001b[0m\u001b[0;34m\u001b[0m\u001b[0;34m\u001b[0m\u001b[0m\n\u001b[0;32m---> 64\u001b[0;31m     \u001b[0my_pred\u001b[0m \u001b[0;34m=\u001b[0m \u001b[0mpredict\u001b[0m\u001b[0;34m(\u001b[0m\u001b[0mX_train\u001b[0m\u001b[0;34m,\u001b[0m \u001b[0mweights\u001b[0m\u001b[0;34m,\u001b[0m \u001b[0mbias\u001b[0m\u001b[0;34m)\u001b[0m\u001b[0;34m\u001b[0m\u001b[0;34m\u001b[0m\u001b[0m\n\u001b[0m\u001b[1;32m     65\u001b[0m     \u001b[0merror\u001b[0m \u001b[0;34m=\u001b[0m \u001b[0my_train\u001b[0m \u001b[0;34m-\u001b[0m \u001b[0my_pred\u001b[0m\u001b[0;34m\u001b[0m\u001b[0;34m\u001b[0m\u001b[0m\n\u001b[1;32m     66\u001b[0m     \u001b[0mweights_gradient\u001b[0m \u001b[0;34m=\u001b[0m \u001b[0;34m-\u001b[0m\u001b[0;34m(\u001b[0m\u001b[0;36m2\u001b[0m \u001b[0;34m/\u001b[0m \u001b[0mlen\u001b[0m\u001b[0;34m(\u001b[0m\u001b[0mX_train\u001b[0m\u001b[0;34m)\u001b[0m\u001b[0;34m)\u001b[0m \u001b[0;34m*\u001b[0m \u001b[0mnp\u001b[0m\u001b[0;34m.\u001b[0m\u001b[0mdot\u001b[0m\u001b[0;34m(\u001b[0m\u001b[0mX_train\u001b[0m\u001b[0;34m.\u001b[0m\u001b[0mT\u001b[0m\u001b[0;34m,\u001b[0m \u001b[0merror\u001b[0m\u001b[0;34m)\u001b[0m\u001b[0;34m\u001b[0m\u001b[0;34m\u001b[0m\u001b[0m\n",
            "\u001b[0;32m<ipython-input-14-2ca67c2dc745>\u001b[0m in \u001b[0;36mpredict\u001b[0;34m(X, weights, bias)\u001b[0m\n\u001b[1;32m     53\u001b[0m \u001b[0;31m# Define the hypothesis function\u001b[0m\u001b[0;34m\u001b[0m\u001b[0;34m\u001b[0m\u001b[0m\n\u001b[1;32m     54\u001b[0m \u001b[0;32mdef\u001b[0m \u001b[0mpredict\u001b[0m\u001b[0;34m(\u001b[0m\u001b[0mX\u001b[0m\u001b[0;34m,\u001b[0m \u001b[0mweights\u001b[0m\u001b[0;34m,\u001b[0m \u001b[0mbias\u001b[0m\u001b[0;34m)\u001b[0m\u001b[0;34m:\u001b[0m\u001b[0;34m\u001b[0m\u001b[0;34m\u001b[0m\u001b[0m\n\u001b[0;32m---> 55\u001b[0;31m     \u001b[0;32mreturn\u001b[0m \u001b[0mnp\u001b[0m\u001b[0;34m.\u001b[0m\u001b[0mdot\u001b[0m\u001b[0;34m(\u001b[0m\u001b[0mX\u001b[0m\u001b[0;34m,\u001b[0m \u001b[0mweights\u001b[0m\u001b[0;34m)\u001b[0m \u001b[0;34m+\u001b[0m \u001b[0mbias\u001b[0m\u001b[0;34m\u001b[0m\u001b[0;34m\u001b[0m\u001b[0m\n\u001b[0m\u001b[1;32m     56\u001b[0m \u001b[0;34m\u001b[0m\u001b[0m\n\u001b[1;32m     57\u001b[0m \u001b[0;31m# Define the Mean Squared Error (MSE) cost function\u001b[0m\u001b[0;34m\u001b[0m\u001b[0;34m\u001b[0m\u001b[0m\n",
            "\u001b[0;32m/usr/local/lib/python3.10/dist-packages/numpy/core/overrides.py\u001b[0m in \u001b[0;36mdot\u001b[0;34m(*args, **kwargs)\u001b[0m\n",
            "\u001b[0;31mTypeError\u001b[0m: can't multiply sequence by non-int of type 'float'"
          ]
        }
      ]
    }
  ]
}